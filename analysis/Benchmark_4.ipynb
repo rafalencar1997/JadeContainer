{
 "cells": [
  {
   "cell_type": "markdown",
   "metadata": {},
   "source": [
    "# Benchmark 4 - Número de Hosts"
   ]
  },
  {
   "cell_type": "markdown",
   "metadata": {},
   "source": [
    "## Setup do Ambiente"
   ]
  },
  {
   "cell_type": "markdown",
   "metadata": {},
   "source": [
    "### Imports"
   ]
  },
  {
   "cell_type": "code",
   "execution_count": 1,
   "metadata": {
    "collapsed": true
   },
   "outputs": [],
   "source": [
    "from setup import *\n",
    "\n",
    "# from jupyter_datatables import init_datatables_mode\n",
    "\n",
    "# %load_ext jupyter_require\n",
    "\n",
    "# %reload_ext jupyter_require\n",
    "# %requirejs d3 https://d3js.org/d3.v5.min\n",
    "# init_datatables_mode()\n",
    "\n",
    "# %matplotlib inline\n",
    "# matplotlib.style.use('ggplot')"
   ]
  },
  {
   "cell_type": "markdown",
   "metadata": {},
   "source": [
    "### Load Data"
   ]
  },
  {
   "cell_type": "code",
   "execution_count": 2,
   "metadata": {},
   "outputs": [],
   "source": [
    "#folder_path = '../credentials/results/Benchmark4/'\n",
    "#dfb4 = load_data(folder_path)\n",
    "dfb4 = pd.DataFrame()"
   ]
  },
  {
   "cell_type": "code",
   "execution_count": 3,
   "metadata": {},
   "outputs": [],
   "source": [
    "folder_path = '../credentials/results/Benchmark5/'\n",
    "dfb5 = load_data(folder_path)"
   ]
  },
  {
   "cell_type": "code",
   "execution_count": 4,
   "metadata": {},
   "outputs": [
    {
     "data": {
      "text/html": [
       "<div>\n",
       "<style scoped>\n",
       "    .dataframe tbody tr th:only-of-type {\n",
       "        vertical-align: middle;\n",
       "    }\n",
       "\n",
       "    .dataframe tbody tr th {\n",
       "        vertical-align: top;\n",
       "    }\n",
       "\n",
       "    .dataframe thead th {\n",
       "        text-align: right;\n",
       "    }\n",
       "</style>\n",
       "<table border=\"1\" class=\"dataframe\">\n",
       "  <thead>\n",
       "    <tr style=\"text-align: right;\">\n",
       "      <th></th>\n",
       "      <th>RTT</th>\n",
       "      <th>Benchmark</th>\n",
       "      <th>NumberHosts</th>\n",
       "      <th>NumberSenders</th>\n",
       "      <th>NumberReceivers</th>\n",
       "      <th>MessageSize</th>\n",
       "      <th>NumberMessages</th>\n",
       "      <th>Henrique</th>\n",
       "    </tr>\n",
       "  </thead>\n",
       "  <tbody>\n",
       "    <tr>\n",
       "      <th>190</th>\n",
       "      <td>0</td>\n",
       "      <td>5</td>\n",
       "      <td>1</td>\n",
       "      <td>1</td>\n",
       "      <td>1</td>\n",
       "      <td>100</td>\n",
       "      <td>1000</td>\n",
       "      <td>True</td>\n",
       "    </tr>\n",
       "    <tr>\n",
       "      <th>294</th>\n",
       "      <td>0</td>\n",
       "      <td>5</td>\n",
       "      <td>1</td>\n",
       "      <td>1</td>\n",
       "      <td>1</td>\n",
       "      <td>100</td>\n",
       "      <td>1000</td>\n",
       "      <td>True</td>\n",
       "    </tr>\n",
       "    <tr>\n",
       "      <th>974</th>\n",
       "      <td>0</td>\n",
       "      <td>5</td>\n",
       "      <td>1</td>\n",
       "      <td>1</td>\n",
       "      <td>1</td>\n",
       "      <td>100</td>\n",
       "      <td>1000</td>\n",
       "      <td>True</td>\n",
       "    </tr>\n",
       "    <tr>\n",
       "      <th>258</th>\n",
       "      <td>0</td>\n",
       "      <td>5</td>\n",
       "      <td>1</td>\n",
       "      <td>1</td>\n",
       "      <td>1</td>\n",
       "      <td>100</td>\n",
       "      <td>1000</td>\n",
       "      <td>True</td>\n",
       "    </tr>\n",
       "    <tr>\n",
       "      <th>845</th>\n",
       "      <td>0</td>\n",
       "      <td>5</td>\n",
       "      <td>1</td>\n",
       "      <td>1</td>\n",
       "      <td>1</td>\n",
       "      <td>100</td>\n",
       "      <td>1000</td>\n",
       "      <td>True</td>\n",
       "    </tr>\n",
       "    <tr>\n",
       "      <th>725</th>\n",
       "      <td>0</td>\n",
       "      <td>5</td>\n",
       "      <td>1</td>\n",
       "      <td>1</td>\n",
       "      <td>1</td>\n",
       "      <td>100</td>\n",
       "      <td>1000</td>\n",
       "      <td>True</td>\n",
       "    </tr>\n",
       "    <tr>\n",
       "      <th>257</th>\n",
       "      <td>0</td>\n",
       "      <td>5</td>\n",
       "      <td>1</td>\n",
       "      <td>1</td>\n",
       "      <td>1</td>\n",
       "      <td>100</td>\n",
       "      <td>1000</td>\n",
       "      <td>True</td>\n",
       "    </tr>\n",
       "    <tr>\n",
       "      <th>763</th>\n",
       "      <td>0</td>\n",
       "      <td>5</td>\n",
       "      <td>1</td>\n",
       "      <td>1</td>\n",
       "      <td>1</td>\n",
       "      <td>100</td>\n",
       "      <td>1000</td>\n",
       "      <td>True</td>\n",
       "    </tr>\n",
       "    <tr>\n",
       "      <th>127</th>\n",
       "      <td>0</td>\n",
       "      <td>5</td>\n",
       "      <td>1</td>\n",
       "      <td>1</td>\n",
       "      <td>1</td>\n",
       "      <td>100</td>\n",
       "      <td>1000</td>\n",
       "      <td>True</td>\n",
       "    </tr>\n",
       "    <tr>\n",
       "      <th>232</th>\n",
       "      <td>0</td>\n",
       "      <td>5</td>\n",
       "      <td>1</td>\n",
       "      <td>1</td>\n",
       "      <td>1</td>\n",
       "      <td>100</td>\n",
       "      <td>1000</td>\n",
       "      <td>True</td>\n",
       "    </tr>\n",
       "  </tbody>\n",
       "</table>\n",
       "</div>"
      ],
      "text/plain": [
       "     RTT  Benchmark  NumberHosts  NumberSenders  NumberReceivers  MessageSize  \\\n",
       "190    0          5            1              1                1          100   \n",
       "294    0          5            1              1                1          100   \n",
       "974    0          5            1              1                1          100   \n",
       "258    0          5            1              1                1          100   \n",
       "845    0          5            1              1                1          100   \n",
       "725    0          5            1              1                1          100   \n",
       "257    0          5            1              1                1          100   \n",
       "763    0          5            1              1                1          100   \n",
       "127    0          5            1              1                1          100   \n",
       "232    0          5            1              1                1          100   \n",
       "\n",
       "     NumberMessages  Henrique  \n",
       "190            1000      True  \n",
       "294            1000      True  \n",
       "974            1000      True  \n",
       "258            1000      True  \n",
       "845            1000      True  \n",
       "725            1000      True  \n",
       "257            1000      True  \n",
       "763            1000      True  \n",
       "127            1000      True  \n",
       "232            1000      True  "
      ]
     },
     "execution_count": 4,
     "metadata": {},
     "output_type": "execute_result"
    }
   ],
   "source": [
    "df = pd.concat([dfb4,dfb5])\n",
    "df.sample(10)"
   ]
  },
  {
   "cell_type": "markdown",
   "metadata": {},
   "source": [
    "## Experimentos"
   ]
  },
  {
   "cell_type": "markdown",
   "metadata": {},
   "source": [
    "### Experimento B4E1 - Número de Pares de Agentes"
   ]
  },
  {
   "cell_type": "code",
   "execution_count": 5,
   "metadata": {},
   "outputs": [],
   "source": [
    "b4e1 = df[df.Benchmark == 4]\n",
    "b4e1 = b4e1[b4e1.MessageSize == 1]\n",
    "b4e1 = b4e1[b4e1.NumberMessages == 1000]\n",
    "b4e1 = b4e1[[\"NumberSenders\", \"RTT\"]]\n",
    "\n",
    "b5e1 = df[df.Benchmark == 5]\n",
    "b5e1 = b5e1[b5e1.MessageSize == 1]\n",
    "b5e1 = b5e1[b5e1.NumberMessages == 1000]\n",
    "b5e1 = b5e1[[\"NumberSenders\", \"RTT\"]]"
   ]
  },
  {
   "cell_type": "code",
   "execution_count": 6,
   "metadata": {},
   "outputs": [
    {
     "data": {
      "text/html": [
       "<div>\n",
       "<style scoped>\n",
       "    .dataframe tbody tr th:only-of-type {\n",
       "        vertical-align: middle;\n",
       "    }\n",
       "\n",
       "    .dataframe tbody tr th {\n",
       "        vertical-align: top;\n",
       "    }\n",
       "\n",
       "    .dataframe thead th {\n",
       "        text-align: right;\n",
       "    }\n",
       "</style>\n",
       "<table border=\"1\" class=\"dataframe\">\n",
       "  <thead>\n",
       "    <tr style=\"text-align: right;\">\n",
       "      <th></th>\n",
       "      <th>NumberSenders</th>\n",
       "      <th>RTT_mean</th>\n",
       "      <th>RTT_min</th>\n",
       "      <th>RTT_max</th>\n",
       "      <th>RTT_std</th>\n",
       "      <th>Messages_Delivered</th>\n",
       "    </tr>\n",
       "  </thead>\n",
       "  <tbody>\n",
       "    <tr>\n",
       "      <th>0</th>\n",
       "      <td>1</td>\n",
       "      <td>0.327</td>\n",
       "      <td>0</td>\n",
       "      <td>4</td>\n",
       "      <td>0.490216</td>\n",
       "      <td>1000</td>\n",
       "    </tr>\n",
       "    <tr>\n",
       "      <th>1</th>\n",
       "      <td>10</td>\n",
       "      <td>0.805</td>\n",
       "      <td>0</td>\n",
       "      <td>23</td>\n",
       "      <td>1.210967</td>\n",
       "      <td>1000</td>\n",
       "    </tr>\n",
       "    <tr>\n",
       "      <th>2</th>\n",
       "      <td>20</td>\n",
       "      <td>1.326</td>\n",
       "      <td>0</td>\n",
       "      <td>101</td>\n",
       "      <td>3.716926</td>\n",
       "      <td>1000</td>\n",
       "    </tr>\n",
       "    <tr>\n",
       "      <th>3</th>\n",
       "      <td>40</td>\n",
       "      <td>3.219</td>\n",
       "      <td>0</td>\n",
       "      <td>37</td>\n",
       "      <td>4.889882</td>\n",
       "      <td>1000</td>\n",
       "    </tr>\n",
       "    <tr>\n",
       "      <th>4</th>\n",
       "      <td>60</td>\n",
       "      <td>7.050</td>\n",
       "      <td>0</td>\n",
       "      <td>260</td>\n",
       "      <td>13.456172</td>\n",
       "      <td>1000</td>\n",
       "    </tr>\n",
       "  </tbody>\n",
       "</table>\n",
       "</div>"
      ],
      "text/plain": [
       "   NumberSenders  RTT_mean  RTT_min  RTT_max    RTT_std  Messages_Delivered\n",
       "0              1     0.327        0        4   0.490216                1000\n",
       "1             10     0.805        0       23   1.210967                1000\n",
       "2             20     1.326        0      101   3.716926                1000\n",
       "3             40     3.219        0       37   4.889882                1000\n",
       "4             60     7.050        0      260  13.456172                1000"
      ]
     },
     "execution_count": 6,
     "metadata": {},
     "output_type": "execute_result"
    }
   ],
   "source": [
    "b4e1 = b4e1.groupby(['NumberSenders']).agg(['mean', 'min', 'max', 'std', 'count'])\n",
    "b4e1.columns = ['RTT_mean', 'RTT_min', 'RTT_max', 'RTT_std', 'Messages_Delivered']\n",
    "b4e1 = b4e1.reset_index()\n",
    "\n",
    "b5e1 = b5e1.groupby(['NumberSenders']).agg(['mean', 'min', 'max', 'std', 'count'])\n",
    "b5e1.columns = ['RTT_mean', 'RTT_min', 'RTT_max', 'RTT_std', 'Messages_Delivered']\n",
    "b5e1 = b5e1.reset_index()\n",
    "b5e1"
   ]
  },
  {
   "cell_type": "code",
   "execution_count": 7,
   "metadata": {},
   "outputs": [
    {
     "data": {
      "image/png": "[encoded data removed]",
      "text/plain": [
       "<matplotlib.figure.Figure at 0x7f0b528b69e8>"
      ]
     },
     "metadata": {},
     "output_type": "display_data"
    }
   ],
   "source": [
    "plot_results2([b4e1, b5e1], yerror=False, legentOut=False, logScale=True,\n",
    "             title='title', \n",
    "             x_label='Pares de Agentes', \n",
    "             x_column='NumberSenders',\n",
    "             legend = ['Interplataforma', 'Intraplataforma'])"
   ]
  },
  {
   "cell_type": "markdown",
   "metadata": {},
   "source": [
    "### Experimento B4E2 - Tamanho das Mensagens"
   ]
  },
  {
   "cell_type": "code",
   "execution_count": 8,
   "metadata": {
    "collapsed": true
   },
   "outputs": [],
   "source": [
    "b4e2 = df[df.Benchmark == 4]\n",
    "b4e2 = b4e2[b4e2.NumberSenders == 100]\n",
    "b4e2 = b4e2[b4e2.NumberMessages == 10]\n",
    "b4e2 = b4e2[[\"MessageSize\", \"RTT\"]]\n",
    "\n",
    "b5e2 = df[df.Benchmark == 5]\n",
    "b5e2 = b5e2[b5e2.NumberSenders == 100]\n",
    "b5e2 = b5e2[b5e2.NumberMessages == 10]\n",
    "b5e2 = b5e2[[\"MessageSize\", \"RTT\"]]"
   ]
  },
  {
   "cell_type": "code",
   "execution_count": 9,
   "metadata": {},
   "outputs": [
    {
     "data": {
      "text/html": [
       "<div>\n",
       "<style scoped>\n",
       "    .dataframe tbody tr th:only-of-type {\n",
       "        vertical-align: middle;\n",
       "    }\n",
       "\n",
       "    .dataframe tbody tr th {\n",
       "        vertical-align: top;\n",
       "    }\n",
       "\n",
       "    .dataframe thead th {\n",
       "        text-align: right;\n",
       "    }\n",
       "</style>\n",
       "<table border=\"1\" class=\"dataframe\">\n",
       "  <thead>\n",
       "    <tr style=\"text-align: right;\">\n",
       "      <th></th>\n",
       "      <th>MessageSize</th>\n",
       "      <th>RTT_mean</th>\n",
       "      <th>RTT_min</th>\n",
       "      <th>RTT_max</th>\n",
       "      <th>RTT_std</th>\n",
       "      <th>Messages_Delivered</th>\n",
       "    </tr>\n",
       "  </thead>\n",
       "  <tbody>\n",
       "    <tr>\n",
       "      <th>0</th>\n",
       "      <td>1</td>\n",
       "      <td>22.6</td>\n",
       "      <td>0</td>\n",
       "      <td>90</td>\n",
       "      <td>31.426104</td>\n",
       "      <td>10</td>\n",
       "    </tr>\n",
       "  </tbody>\n",
       "</table>\n",
       "</div>"
      ],
      "text/plain": [
       "   MessageSize  RTT_mean  RTT_min  RTT_max    RTT_std  Messages_Delivered\n",
       "0            1      22.6        0       90  31.426104                  10"
      ]
     },
     "execution_count": 9,
     "metadata": {},
     "output_type": "execute_result"
    }
   ],
   "source": [
    "b4e2 = b4e2.groupby(['MessageSize']).agg(['mean', 'min', 'max', 'std', 'count'])\n",
    "b4e2.columns = ['RTT_mean', 'RTT_min', 'RTT_max', 'RTT_std', 'Messages_Delivered']\n",
    "b4e2 = b4e2.reset_index()\n",
    "\n",
    "b5e2 = b5e2.groupby(['MessageSize']).agg(['mean', 'min', 'max', 'std', 'count'])\n",
    "b5e2.columns = ['RTT_mean', 'RTT_min', 'RTT_max', 'RTT_std', 'Messages_Delivered']\n",
    "b5e2 = b5e2.reset_index()\n",
    "b5e2"
   ]
  },
  {
   "cell_type": "code",
   "execution_count": 10,
   "metadata": {},
   "outputs": [
    {
     "name": "stderr",
     "output_type": "stream",
     "text": [
      "/home/user/anaconda3/lib/python3.6/site-packages/matplotlib/axes/_base.py:2918: UserWarning: Attempting to set identical left==right results\n",
      "in singular transformations; automatically expanding.\n",
      "left=1.0, right=1.0\n",
      "  'left=%s, right=%s') % (left, right))\n"
     ]
    },
    {
     "data": {
      "image/png": "[encoded data removed]",
      "text/plain": [
       "<matplotlib.figure.Figure at 0x7f0b483a5f28>"
      ]
     },
     "metadata": {},
     "output_type": "display_data"
    }
   ],
   "source": [
    "plot_results2([b4e2, b5e2], yerror=False, legentOut=False, logScale=True,\n",
    "             title='title', \n",
    "             x_label='Tamanho da Mensagem (bytes)', \n",
    "             x_column='MessageSize',\n",
    "             legend = ['Interplataforma', 'Intraplataforma'])"
   ]
  },
  {
   "cell_type": "markdown",
   "metadata": {},
   "source": [
    "### Experimento B4E3- Número de Mensagens"
   ]
  },
  {
   "cell_type": "code",
   "execution_count": 15,
   "metadata": {
    "collapsed": true
   },
   "outputs": [],
   "source": [
    "b4e3 = df[df.Benchmark == 4]\n",
    "b4e3 = b4e3[b4e3.NumberSenders == 100]\n",
    "b4e3 = b4e3[b4e3.MessageSize == 1]\n",
    "b4e3 = b4e3[[\"NumberMessages\", \"RTT\"]]\n",
    "\n",
    "b5e3 = df[df.Benchmark == 5]\n",
    "b5e3 = b5e3[b5e3.NumberSenders == 100]\n",
    "b5e3 = b5e3[b5e3.MessageSize == 1]\n",
    "b5e3 = b5e3[[\"NumberMessages\", \"RTT\"]]"
   ]
  },
  {
   "cell_type": "code",
   "execution_count": 16,
   "metadata": {},
   "outputs": [
    {
     "data": {
      "text/html": [
       "<div>\n",
       "<style scoped>\n",
       "    .dataframe tbody tr th:only-of-type {\n",
       "        vertical-align: middle;\n",
       "    }\n",
       "\n",
       "    .dataframe tbody tr th {\n",
       "        vertical-align: top;\n",
       "    }\n",
       "\n",
       "    .dataframe thead th {\n",
       "        text-align: right;\n",
       "    }\n",
       "</style>\n",
       "<table border=\"1\" class=\"dataframe\">\n",
       "  <thead>\n",
       "    <tr style=\"text-align: right;\">\n",
       "      <th></th>\n",
       "      <th>NumberMessages</th>\n",
       "      <th>RTT_mean</th>\n",
       "      <th>RTT_min</th>\n",
       "      <th>RTT_max</th>\n",
       "      <th>RTT_std</th>\n",
       "      <th>Messages_Delivered</th>\n",
       "    </tr>\n",
       "  </thead>\n",
       "  <tbody>\n",
       "    <tr>\n",
       "      <th>0</th>\n",
       "      <td>1</td>\n",
       "      <td>1.0</td>\n",
       "      <td>1</td>\n",
       "      <td>1</td>\n",
       "      <td>NaN</td>\n",
       "      <td>1</td>\n",
       "    </tr>\n",
       "    <tr>\n",
       "      <th>1</th>\n",
       "      <td>10</td>\n",
       "      <td>22.6</td>\n",
       "      <td>0</td>\n",
       "      <td>90</td>\n",
       "      <td>31.426104</td>\n",
       "      <td>10</td>\n",
       "    </tr>\n",
       "  </tbody>\n",
       "</table>\n",
       "</div>"
      ],
      "text/plain": [
       "   NumberMessages  RTT_mean  RTT_min  RTT_max    RTT_std  Messages_Delivered\n",
       "0               1       1.0        1        1        NaN                   1\n",
       "1              10      22.6        0       90  31.426104                  10"
      ]
     },
     "execution_count": 16,
     "metadata": {},
     "output_type": "execute_result"
    }
   ],
   "source": [
    "b4e3 = b4e3.groupby(['NumberMessages']).agg(['mean', 'min', 'max', 'std', 'count'])\n",
    "b4e3.columns = ['RTT_mean', 'RTT_min', 'RTT_max', 'RTT_std', 'Messages_Delivered']\n",
    "b4e3 = b4e3.reset_index()\n",
    "\n",
    "b5e3 = b5e3.groupby(['NumberMessages']).agg(['mean', 'min', 'max', 'std', 'count'])\n",
    "b5e3.columns = ['RTT_mean', 'RTT_min', 'RTT_max', 'RTT_std', 'Messages_Delivered']\n",
    "b5e3 = b5e3.reset_index()\n",
    "b5e3"
   ]
  },
  {
   "cell_type": "code",
   "execution_count": 17,
   "metadata": {},
   "outputs": [
    {
     "data": {
      "image/png": "[encoded data removed]",
      "text/plain": [
       "<matplotlib.figure.Figure at 0x7f0b482fc4a8>"
      ]
     },
     "metadata": {},
     "output_type": "display_data"
    }
   ],
   "source": [
    "plot_results2([b4e3, b5e3], yerror=False, legentOut=False, logScale=True,\n",
    "             title='title', \n",
    "             x_label='Número de Mensagens', \n",
    "             x_column='NumberMessages',\n",
    "             legend = ['Interplataforma', 'Intraplataforma'])"
   ]
  },
  {
   "cell_type": "code",
   "execution_count": null,
   "metadata": {
    "collapsed": true
   },
   "outputs": [],
   "source": []
  }
 ],
 "metadata": {
  "kernelspec": {
   "display_name": "Python 3",
   "language": "python",
   "name": "python3"
  },
  "language_info": {
   "codemirror_mode": {
    "name": "ipython",
    "version": 3
   },
   "file_extension": ".py",
   "mimetype": "text/x-python",
   "name": "python",
   "nbconvert_exporter": "python",
   "pygments_lexer": "ipython3",
   "version": "3.6.3"
  }
 },
 "nbformat": 4,
 "nbformat_minor": 2
}
