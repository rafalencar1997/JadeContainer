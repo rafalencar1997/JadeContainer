{
 "cells": [
  {
   "cell_type": "markdown",
   "metadata": {},
   "source": [
    "## Dataset Creation"
   ]
  },
  {
   "cell_type": "code",
   "execution_count": 1,
   "metadata": {
    "collapsed": true
   },
   "outputs": [],
   "source": [
    "import os\n",
    "import csv\n",
    "import numpy as np\n",
    "import pandas as pd\n",
    "import matplotlib\n",
    "import matplotlib.pyplot as plt\n",
    "\n",
    "%matplotlib inline\n",
    "matplotlib.style.use('ggplot')"
   ]
  },
  {
   "cell_type": "code",
   "execution_count": 2,
   "metadata": {
    "collapsed": true
   },
   "outputs": [],
   "source": [
    "def getDataframe(filename):\n",
    "    readFile = open(filename, 'r')\n",
    "    reader = csv.reader(readFile)\n",
    "\n",
    "    data = list()  \n",
    "    for row in reader:\n",
    "        data.append(row)\n",
    "    readFile.close()\n",
    "\n",
    "    df = pd.DataFrame.from_dict(data)\n",
    "    df.columns = df.iloc[0]\n",
    "    df = df[1:]\n",
    "    df['RTT'] = pd.to_numeric(df['RTT'], downcast=\"float\")\n",
    "    df['MessageSize'] = pd.to_numeric(df['MessageSize'], downcast=\"integer\")\n",
    "    df['NumberOfMessages'] = pd.to_numeric(df['NumberOfMessages'], downcast=\"integer\")\n",
    "    df[df.columns[4]] = pd.to_numeric(df[df.columns[4]], downcast=\"integer\")\n",
    "    \n",
    "    return df"
   ]
  },
  {
   "cell_type": "code",
   "execution_count": 4,
   "metadata": {},
   "outputs": [],
   "source": [
    "def getBenchmark(benchmark):\n",
    "    resultsFolder = \"../bin/results/Benchmark\"+str(benchmark)+\"/\"\n",
    "    resultsFiles = os.listdir(resultsFolder)\n",
    "\n",
    "    df = getDataframe(resultsFolder+resultsFiles[0])\n",
    "    for i in range(len(resultsFiles)-1):\n",
    "        df = pd.concat([df, getDataframe(resultsFolder+resultsFiles[i+1])])\n",
    "    return df\n",
    "    "
   ]
  },
  {
   "cell_type": "markdown",
   "metadata": {},
   "source": [
    "## Dataset Statistics"
   ]
  },
  {
   "cell_type": "code",
   "execution_count": 53,
   "metadata": {},
   "outputs": [
    {
     "name": "stdout",
     "output_type": "stream",
     "text": [
      "Valores Máximos: 25.0\n",
      "Valores Mínimos: 0.0\n",
      "Valores Médios: 0.41225\n",
      "Valores Desvio: 0.985408\n"
     ]
    }
   ],
   "source": [
    "print(\"Valores Máximos:\",df.max()[\"RTT\"])\n",
    "print(\"Valores Mínimos:\", df.min()[\"RTT\"])\n",
    "print(\"Valores Médios:\", df.mean()[\"RTT\"])\n",
    "print(\"Valores Desvio:\", df.std()[\"RTT\"])"
   ]
  },
  {
   "cell_type": "code",
   "execution_count": 54,
   "metadata": {},
   "outputs": [
    {
     "data": {
      "image/png": "[encoded data removed]",
      "text/plain": [
       "<matplotlib.figure.Figure at 0x7fecdc045b38>"
      ]
     },
     "metadata": {},
     "output_type": "display_data"
    }
   ],
   "source": [
    "plt.figure(figsize=(10,4))\n",
    "plt.hist(df['RTT'], bins=range(int(df.min()[\"RTT\"]),int(df.max()[\"RTT\"]),1), \n",
    "         histtype='bar', ec='black', color='blue')\n",
    "plt.title(\"RTT Histogram\")\n",
    "plt.show()"
   ]
  },
  {
   "cell_type": "markdown",
   "metadata": {},
   "source": [
    "## Benchmark 1"
   ]
  },
  {
   "cell_type": "code",
   "execution_count": 60,
   "metadata": {},
   "outputs": [
    {
     "data": {
      "text/html": [
       "<div>\n",
       "<style>\n",
       "    .dataframe thead tr:only-child th {\n",
       "        text-align: right;\n",
       "    }\n",
       "\n",
       "    .dataframe thead th {\n",
       "        text-align: left;\n",
       "    }\n",
       "\n",
       "    .dataframe tbody tr th {\n",
       "        vertical-align: top;\n",
       "    }\n",
       "</style>\n",
       "<table border=\"1\" class=\"dataframe\">\n",
       "  <thead>\n",
       "    <tr style=\"text-align: right;\">\n",
       "      <th></th>\n",
       "      <th></th>\n",
       "      <th></th>\n",
       "      <th>RTT</th>\n",
       "    </tr>\n",
       "    <tr>\n",
       "      <th>NumberOfHosts</th>\n",
       "      <th>MessageSize</th>\n",
       "      <th>NumberOfMessages</th>\n",
       "      <th></th>\n",
       "    </tr>\n",
       "  </thead>\n",
       "  <tbody>\n",
       "    <tr>\n",
       "      <th>2</th>\n",
       "      <th>1</th>\n",
       "      <th>1000</th>\n",
       "      <td>0.2320</td>\n",
       "    </tr>\n",
       "    <tr>\n",
       "      <th>3</th>\n",
       "      <th>1</th>\n",
       "      <th>1000</th>\n",
       "      <td>0.2340</td>\n",
       "    </tr>\n",
       "    <tr>\n",
       "      <th>5</th>\n",
       "      <th>1</th>\n",
       "      <th>1000</th>\n",
       "      <td>0.3635</td>\n",
       "    </tr>\n",
       "    <tr>\n",
       "      <th>6</th>\n",
       "      <th>1</th>\n",
       "      <th>1000</th>\n",
       "      <td>0.2275</td>\n",
       "    </tr>\n",
       "  </tbody>\n",
       "</table>\n",
       "</div>"
      ],
      "text/plain": [
       "0                                              RTT\n",
       "NumberOfHosts MessageSize NumberOfMessages        \n",
       "2             1           1000              0.2320\n",
       "3             1           1000              0.2340\n",
       "5             1           1000              0.3635\n",
       "6             1           1000              0.2275"
      ]
     },
     "execution_count": 60,
     "metadata": {},
     "output_type": "execute_result"
    }
   ],
   "source": [
    "df = getBenchmark(1)\n",
    "dfMean = df.groupby(['NumberOfHosts', 'MessageSize', 'NumberOfMessages']).mean()\n",
    "dfStd  = df.groupby(['NumberOfHosts', 'MessageSize', 'NumberOfMessages']).std()\n",
    "dfAxis = dfMean.index.levels[0]\n",
    "df1Mean"
   ]
  },
  {
   "cell_type": "code",
   "execution_count": 95,
   "metadata": {},
   "outputs": [
    {
     "data": {
      "image/png": "[encoded data removed]",
      "text/plain": [
       "<matplotlib.figure.Figure at 0x7f8eca6e8940>"
      ]
     },
     "metadata": {},
     "output_type": "display_data"
    }
   ],
   "source": [
    "fig, ax = plt.subplots(figsize=(10, 6))\n",
    "\n",
    "ax.set_title('Benchmark 1 - Número de Hosts', fontsize=20)\n",
    "ax.legend(loc='upper left')\n",
    "ax.set_ylabel('Média de RTT', fontsize=16)\n",
    "ax.set_xlabel('Número de Hosts', fontsize=16)\n",
    "ax.set_xlim([dfAxis.min()-1, dfAxis.max()+1])\n",
    "ax.set_ylim([0,dfMean.max()['RTT']+dfStd.max()['RTT']+0.1])\n",
    "\n",
    "\n",
    "plt.errorbar(dfAxis, dfMean['RTT'], yerr=dfStd['RTT'], fmt='--s')\n",
    "plt.errorbar(dfAxis, dfStd['RTT'], yerr=dfMean['RTT'], fmt='--s')\n",
    "\n",
    "fig.tight_layout()"
   ]
  },
  {
   "cell_type": "markdown",
   "metadata": {},
   "source": [
    "## Benchmark 2"
   ]
  },
  {
   "cell_type": "code",
   "execution_count": 89,
   "metadata": {},
   "outputs": [
    {
     "data": {
      "text/html": [
       "<div>\n",
       "<style>\n",
       "    .dataframe thead tr:only-child th {\n",
       "        text-align: right;\n",
       "    }\n",
       "\n",
       "    .dataframe thead th {\n",
       "        text-align: left;\n",
       "    }\n",
       "\n",
       "    .dataframe tbody tr th {\n",
       "        vertical-align: top;\n",
       "    }\n",
       "</style>\n",
       "<table border=\"1\" class=\"dataframe\">\n",
       "  <thead>\n",
       "    <tr style=\"text-align: right;\">\n",
       "      <th></th>\n",
       "      <th></th>\n",
       "      <th></th>\n",
       "      <th>RTT</th>\n",
       "    </tr>\n",
       "    <tr>\n",
       "      <th>NumberOfSender</th>\n",
       "      <th>MessageSize</th>\n",
       "      <th>NumberOfMessages</th>\n",
       "      <th></th>\n",
       "    </tr>\n",
       "  </thead>\n",
       "  <tbody>\n",
       "    <tr>\n",
       "      <th>2</th>\n",
       "      <th>1</th>\n",
       "      <th>1000</th>\n",
       "      <td>0.330</td>\n",
       "    </tr>\n",
       "    <tr>\n",
       "      <th>4</th>\n",
       "      <th>1</th>\n",
       "      <th>1000</th>\n",
       "      <td>0.333</td>\n",
       "    </tr>\n",
       "    <tr>\n",
       "      <th>6</th>\n",
       "      <th>1</th>\n",
       "      <th>1000</th>\n",
       "      <td>0.387</td>\n",
       "    </tr>\n",
       "  </tbody>\n",
       "</table>\n",
       "</div>"
      ],
      "text/plain": [
       "0                                              RTT\n",
       "NumberOfSender MessageSize NumberOfMessages       \n",
       "2              1           1000              0.330\n",
       "4              1           1000              0.333\n",
       "6              1           1000              0.387"
      ]
     },
     "execution_count": 89,
     "metadata": {},
     "output_type": "execute_result"
    }
   ],
   "source": [
    "df = getBenchmark(2)\n",
    "dfMean = df.groupby(['NumberOfSender','MessageSize','NumberOfMessages']).mean()\n",
    "dfStd = df.groupby(['NumberOfSender','MessageSize','NumberOfMessages']).std()\n",
    "dfAxis = dfMean.index.levels[0]\n",
    "dfMean"
   ]
  },
  {
   "cell_type": "code",
   "execution_count": 96,
   "metadata": {},
   "outputs": [
    {
     "data": {
      "image/png": "[encoded data removed]",
      "text/plain": [
       "<matplotlib.figure.Figure at 0x7f8eca77ab00>"
      ]
     },
     "metadata": {},
     "output_type": "display_data"
    }
   ],
   "source": [
    "fig, ax = plt.subplots(figsize=(10, 6))\n",
    "\n",
    "ax.set_title('Benchmark 2 - Recepção Massiva (1 Destinatário)', fontsize=20)\n",
    "ax.legend(loc='upper left')\n",
    "ax.set_ylabel('Média de RTT', fontsize=16)\n",
    "ax.set_xlabel('Número de Senders', fontsize=16)\n",
    "ax.set_xlim([dfAxis.min()-1, dfAxis.max()+1])\n",
    "ax.set_ylim([0,dfMean.max()['RTT']+dfStd.max()['RTT']+0.1])\n",
    "\n",
    "\n",
    "plt.errorbar(dfAxis, dfMean['RTT'], yerr=dfStd['RTT'], fmt='--s')\n",
    "plt.errorbar(dfAxis, dfStd['RTT'], yerr=dfMean['RTT'], fmt='--s')\n",
    "\n",
    "fig.tight_layout()"
   ]
  },
  {
   "cell_type": "markdown",
   "metadata": {},
   "source": [
    "## Benchmark 3"
   ]
  },
  {
   "cell_type": "code",
   "execution_count": null,
   "metadata": {
    "collapsed": true
   },
   "outputs": [],
   "source": [
    "df = getBenchmark(3)\n",
    "dfMean = df.groupby(['NumberOfPairs','MessageSize','NumberOfMessages']).mean()\n",
    "dfStd = df.groupby(['NumberOfPairs','MessageSize','NumberOfMessages']).std()\n",
    "dfAxis = dfMean.index.levels[0]\n",
    "dfMean"
   ]
  },
  {
   "cell_type": "code",
   "execution_count": null,
   "metadata": {
    "collapsed": true
   },
   "outputs": [],
   "source": [
    "fig, ax = plt.subplots(figsize=(10, 6))\n",
    "\n",
    "ax.set_title('Benchmark 3 - Recepção Massiva (N Destinatário)', fontsize=20)\n",
    "ax.legend(loc='upper left')\n",
    "ax.set_ylabel('Média de RTT', fontsize=16)\n",
    "ax.set_xlabel('Número de Pares de Agentes', fontsize=16)\n",
    "ax.set_xlim([dfAxis.min()-1, dfAxis.max()+1])\n",
    "ax.set_ylim([0,dfMean.max()['RTT']+dfStd.max()['RTT']+0.1])\n",
    "\n",
    "\n",
    "plt.errorbar(dfAxis, dfMean['RTT'], yerr=dfStd['RTT'], fmt='--s')\n",
    "plt.errorbar(dfAxis, dfStd['RTT'], yerr=dfMean['RTT'], fmt='--s')\n",
    "\n",
    "fig.tight_layout()"
   ]
  },
  {
   "cell_type": "markdown",
   "metadata": {},
   "source": [
    "## Benchmark 4"
   ]
  },
  {
   "cell_type": "code",
   "execution_count": null,
   "metadata": {
    "collapsed": true
   },
   "outputs": [],
   "source": [
    "df = getBenchmark(2)\n",
    "dfMean = df.groupby(['NumberOfSender','MessageSize','NumberOfMessages']).mean()\n",
    "dfStd = df.groupby(['NumberOfSender','MessageSize','NumberOfMessages']).std()\n",
    "dfAxis = dfMean.index.levels[0]\n",
    "dfMean"
   ]
  },
  {
   "cell_type": "code",
   "execution_count": null,
   "metadata": {
    "collapsed": true
   },
   "outputs": [],
   "source": [
    "fig, ax = plt.subplots(figsize=(10, 6))\n",
    "\n",
    "ax.set_title('Benchmark 4 - Número de Agentes por Host', fontsize=20)\n",
    "ax.legend(loc='upper left')\n",
    "ax.set_ylabel('Média de RTT', fontsize=16)\n",
    "ax.set_xlabel('Número de Pares de Agentes', fontsize=16)\n",
    "ax.set_xlim([dfAxis.min()-1, dfAxis.max()+1])\n",
    "ax.set_ylim([0,dfMean.max()['RTT']+dfStd.max()['RTT']+0.1])\n",
    "\n",
    "\n",
    "plt.errorbar(dfAxis, dfMean['RTT'], yerr=dfStd['RTT'], fmt='--s')\n",
    "plt.errorbar(dfAxis, dfStd['RTT'], yerr=dfMean['RTT'], fmt='--s')\n",
    "\n",
    "fig.tight_layout()"
   ]
  }
 ],
 "metadata": {
  "kernelspec": {
   "display_name": "Python 3",
   "language": "python",
   "name": "python3"
  },
  "language_info": {
   "codemirror_mode": {
    "name": "ipython",
    "version": 3
   },
   "file_extension": ".py",
   "mimetype": "text/x-python",
   "name": "python",
   "nbconvert_exporter": "python",
   "pygments_lexer": "ipython3",
   "version": "3.6.3"
  }
 },
 "nbformat": 4,
 "nbformat_minor": 2
}
