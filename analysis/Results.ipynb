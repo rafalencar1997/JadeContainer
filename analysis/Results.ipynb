{
 "cells": [
  {
   "cell_type": "markdown",
   "metadata": {},
   "source": [
    "## Dataset Creation"
   ]
  },
  {
   "cell_type": "code",
   "execution_count": 1,
   "metadata": {
    "collapsed": true
   },
   "outputs": [],
   "source": [
    "import os\n",
    "import csv\n",
    "import numpy as np\n",
    "import pandas as pd\n",
    "import matplotlib\n",
    "import matplotlib.pyplot as plt\n",
    "\n",
    "%matplotlib inline\n",
    "matplotlib.style.use('ggplot')"
   ]
  },
  {
   "cell_type": "code",
   "execution_count": 2,
   "metadata": {
    "collapsed": true
   },
   "outputs": [],
   "source": [
    "def getDataframe(filename):\n",
    "    readFile = open(filename, 'r')\n",
    "    reader = csv.reader(readFile)\n",
    "\n",
    "    data = list()  \n",
    "    for row in reader:\n",
    "        data.append(row)\n",
    "    readFile.close()\n",
    "\n",
    "    df = pd.DataFrame.from_dict(data)\n",
    "\n",
    "    df.columns = [\"Address\", \"RTT\", \"MessageSize\", \"NumberMessages\"]\n",
    "    df[\"RTT\"] = pd.to_numeric(df[\"RTT\"], downcast=\"float\")\n",
    "    \n",
    "    return df"
   ]
  },
  {
   "cell_type": "code",
   "execution_count": 17,
   "metadata": {},
   "outputs": [
    {
     "name": "stdout",
     "output_type": "stream",
     "text": [
      "(2000, 2)\n"
     ]
    },
    {
     "data": {
      "text/html": [
       "<div>\n",
       "<style>\n",
       "    .dataframe thead tr:only-child th {\n",
       "        text-align: right;\n",
       "    }\n",
       "\n",
       "    .dataframe thead th {\n",
       "        text-align: left;\n",
       "    }\n",
       "\n",
       "    .dataframe tbody tr th {\n",
       "        vertical-align: top;\n",
       "    }\n",
       "</style>\n",
       "<table border=\"1\" class=\"dataframe\">\n",
       "  <thead>\n",
       "    <tr style=\"text-align: right;\">\n",
       "      <th></th>\n",
       "      <th>Address</th>\n",
       "      <th>RTT</th>\n",
       "    </tr>\n",
       "  </thead>\n",
       "  <tbody>\n",
       "    <tr>\n",
       "      <th>0</th>\n",
       "      <td>http://192.168.15.16:8080/acc</td>\n",
       "      <td>9.0</td>\n",
       "    </tr>\n",
       "    <tr>\n",
       "      <th>1</th>\n",
       "      <td>http://192.168.15.16:8080/acc</td>\n",
       "      <td>1.0</td>\n",
       "    </tr>\n",
       "    <tr>\n",
       "      <th>2</th>\n",
       "      <td>http://192.168.15.16:8080/acc</td>\n",
       "      <td>3.0</td>\n",
       "    </tr>\n",
       "    <tr>\n",
       "      <th>3</th>\n",
       "      <td>http://192.168.15.16:8080/acc</td>\n",
       "      <td>1.0</td>\n",
       "    </tr>\n",
       "    <tr>\n",
       "      <th>4</th>\n",
       "      <td>http://192.168.15.16:8080/acc</td>\n",
       "      <td>2.0</td>\n",
       "    </tr>\n",
       "  </tbody>\n",
       "</table>\n",
       "</div>"
      ],
      "text/plain": [
       "                         Address  RTT\n",
       "0  http://192.168.15.16:8080/acc  9.0\n",
       "1  http://192.168.15.16:8080/acc  1.0\n",
       "2  http://192.168.15.16:8080/acc  3.0\n",
       "3  http://192.168.15.16:8080/acc  1.0\n",
       "4  http://192.168.15.16:8080/acc  2.0"
      ]
     },
     "execution_count": 17,
     "metadata": {},
     "output_type": "execute_result"
    }
   ],
   "source": [
    "resultsFolder = \"../bin/results/\"\n",
    "resultsFiles = os.listdir(resultsFolder)\n",
    "\n",
    "df = getDataframe(resultsFolder+resultsFiles[0])\n",
    "for i in range(len(resultsFiles)-1):\n",
    "    df = pd.concat([df, getDataframe(resultsFolder+resultsFiles[i+1])])\n",
    "print(df.shape)\n",
    "df.head(5)"
   ]
  },
  {
   "cell_type": "markdown",
   "metadata": {},
   "source": [
    "## Dataset Statistics"
   ]
  },
  {
   "cell_type": "code",
   "execution_count": 18,
   "metadata": {},
   "outputs": [
    {
     "name": "stdout",
     "output_type": "stream",
     "text": [
      "Valores Máximos: 18.0\n",
      "Valores Mínimos: 0.0\n",
      "Valores Médios: 0.311\n",
      "Valores Desvio: 0.844174\n"
     ]
    }
   ],
   "source": [
    "print(\"Valores Máximos:\",df.max()[\"RTT\"])\n",
    "print(\"Valores Mínimos:\", df.min()[\"RTT\"])\n",
    "print(\"Valores Médios:\", df.mean()[\"RTT\"])\n",
    "print(\"Valores Desvio:\", df.std()[\"RTT\"])"
   ]
  },
  {
   "cell_type": "code",
   "execution_count": 19,
   "metadata": {},
   "outputs": [
    {
     "data": {
      "image/png": "[encoded data removed]",
      "text/plain": [
       "<matplotlib.figure.Figure at 0x7f16c60d2668>"
      ]
     },
     "metadata": {},
     "output_type": "display_data"
    }
   ],
   "source": [
    "plt.figure(figsize=(10,4))\n",
    "plt.hist(df['RTT'], bins=range(int(df.min()[\"RTT\"]),int(df.max()[\"RTT\"]),1), \n",
    "         histtype='bar', ec='black', color='blue')\n",
    "plt.title(\"RTT Histogram\")\n",
    "plt.show()"
   ]
  },
  {
   "cell_type": "markdown",
   "metadata": {},
   "source": [
    "## Benchmark 1"
   ]
  },
  {
   "cell_type": "code",
   "execution_count": null,
   "metadata": {
    "collapsed": true
   },
   "outputs": [],
   "source": [
    "df.columns = [\"Address\", \"RTT\", \"MessageSize\", \"NumberOfMessages\", \"NumberOfHosts\"]"
   ]
  },
  {
   "cell_type": "markdown",
   "metadata": {},
   "source": [
    "## Benchmark 2"
   ]
  },
  {
   "cell_type": "code",
   "execution_count": null,
   "metadata": {
    "collapsed": true
   },
   "outputs": [],
   "source": [
    "df.columns = [\"Address\", \"RTT\", \"MessageSize\", \"NumberOfMessages\", \"NumberOfSenders\"]"
   ]
  },
  {
   "cell_type": "markdown",
   "metadata": {},
   "source": [
    "## Benchmark 3"
   ]
  },
  {
   "cell_type": "code",
   "execution_count": null,
   "metadata": {
    "collapsed": true
   },
   "outputs": [],
   "source": [
    "df.columns = [\"Address\", \"RTT\", \"MessageSize\", \"NumberOfMessages\", \"PairOfAgents\"]"
   ]
  },
  {
   "cell_type": "markdown",
   "metadata": {},
   "source": [
    "## Benchmark 4"
   ]
  },
  {
   "cell_type": "code",
   "execution_count": null,
   "metadata": {
    "collapsed": true
   },
   "outputs": [],
   "source": [
    "df.columns = [\"Address\", \"RTT\", \"MessageSize\", \"NumberOfMessages\", \"PairOfAgents\", \"AgentsLocation\"]"
   ]
  }
 ],
 "metadata": {
  "kernelspec": {
   "display_name": "Python 3",
   "language": "python",
   "name": "python3"
  },
  "language_info": {
   "codemirror_mode": {
    "name": "ipython",
    "version": 3
   },
   "file_extension": ".py",
   "mimetype": "text/x-python",
   "name": "python",
   "nbconvert_exporter": "python",
   "pygments_lexer": "ipython3",
   "version": "3.6.3"
  }
 },
 "nbformat": 4,
 "nbformat_minor": 2
}
