{
 "cells": [
  {
   "cell_type": "markdown",
   "metadata": {},
   "source": [
    "# Análise Experimentos Extentidos"
   ]
  },
  {
   "cell_type": "markdown",
   "metadata": {},
   "source": [
    "## Setup do Ambiente\n",
    "\n",
    "Abaixo temos as bibliotecas importadas para a análise dos experimentos e as funções utilizadas para gerar visuzaliações dos dados obtidos."
   ]
  },
  {
   "cell_type": "code",
   "execution_count": 1,
   "metadata": {
    "collapsed": true
   },
   "outputs": [],
   "source": [
    "import os\n",
    "import csv\n",
    "import numpy as np\n",
    "import pandas as pd\n",
    "import matplotlib\n",
    "import matplotlib.pyplot as plt\n",
    "from scipy.optimize import curve_fit\n",
    "from scipy.special import factorial\n",
    "\n",
    "from jupyter_datatables import init_datatables_mode\n",
    "\n",
    "%load_ext jupyter_require\n",
    "\n",
    "%reload_ext jupyter_require\n",
    "%requirejs d3 https://d3js.org/d3.v5.min\n",
    "init_datatables_mode()\n",
    "\n",
    "%matplotlib inline\n",
    "# matplotlib.style.use('ggplot')"
   ]
  },
  {
   "cell_type": "code",
   "execution_count": null,
   "metadata": {
    "collapsed": true
   },
   "outputs": [],
   "source": [
    "df = getBenchmark(1)\n",
    "# df = df.groupby(['NumberOfHosts', 'MessageSize', 'NumberOfMessages']).agg({'RTT': ['mean', 'min', 'max', 'std', 'count']})\n",
    "# df.columns = ['RTT_mean', 'RTT_min', 'RTT_max', 'RTT_std', 'Messages_Delivered']\n",
    "# df = df.reset_index()\n",
    "\n",
    "# df"
   ]
  },
  {
   "cell_type": "code",
   "execution_count": null,
   "metadata": {
    "collapsed": true
   },
   "outputs": [],
   "source": [
    "def plot_results(df, yerror, legentOut=, title, x_label, x_column, logScale=False):\n",
    "    fig, ax = plt.subplots(figsize=(10, 6))\n",
    "    ax.set_ylabel('Média de RTT (ms)\\n', fontsize=16)\n",
    "    ax.set_xlabel('\\n'+x_label, fontsize=16)\n",
    "    \n",
    "    if yerror:\n",
    "        plt.errorbar(df[x_column], df['RTT_mean'], fmt='--s')\n",
    "    else:\n",
    "        plt.errorbar(df[x_column], df['RTT_mean'], fmt='--s')\n",
    "        \n",
    "    if legentOut:\n",
    "        ax.legend(legend, loc='upper right', bbox_to_anchor=(1.36 , 1.015), fontsize=12)\n",
    "    else:\n",
    "        ax.legend(legend, fontsize=12)\n",
    "    fig.tight_layout()\n",
    "    if logScale:\n",
    "        plt.yscale = \"log\""
   ]
  },
  {
   "cell_type": "markdown",
   "metadata": {},
   "source": [
    "## Benchmark 1 - Número de Hosts"
   ]
  },
  {
   "cell_type": "markdown",
   "metadata": {},
   "source": [
    "### Experimento B1E1 - Número de Hosts"
   ]
  },
  {
   "cell_type": "markdown",
   "metadata": {},
   "source": [
    "### Experimento B1E2 - Tamanho das Mensagens"
   ]
  },
  {
   "cell_type": "code",
   "execution_count": null,
   "metadata": {
    "collapsed": true
   },
   "outputs": [],
   "source": []
  },
  {
   "cell_type": "markdown",
   "metadata": {},
   "source": [
    "### Experimento B1E13- Número de Mensagens"
   ]
  },
  {
   "cell_type": "code",
   "execution_count": null,
   "metadata": {
    "collapsed": true
   },
   "outputs": [],
   "source": [
    "df = get_Benchmark(1)\n",
    "df = df[df.MessageSize == 1]\n",
    "df = df[df.NumberOfHosts == 10]\n",
    "plot_results(df, yerror=False, legentOut=False, logScale=True,\n",
    "             'title', \n",
    "             'x_label', \n",
    "             'NumberOfMessages'):\n",
    "\n",
    "    "
   ]
  },
  {
   "cell_type": "markdown",
   "metadata": {},
   "source": [
    "## Benchmark 2 - Receção Massiva (1 Agente Destinatário)"
   ]
  },
  {
   "cell_type": "markdown",
   "metadata": {},
   "source": [
    "### Experimento B1E1 - Número de Remetentes"
   ]
  },
  {
   "cell_type": "code",
   "execution_count": null,
   "metadata": {
    "collapsed": true
   },
   "outputs": [],
   "source": []
  },
  {
   "cell_type": "markdown",
   "metadata": {},
   "source": [
    "## Benchmark 3 - Receção Massiva (N Agentes Destinatários)"
   ]
  },
  {
   "cell_type": "code",
   "execution_count": null,
   "metadata": {
    "collapsed": true
   },
   "outputs": [],
   "source": []
  },
  {
   "cell_type": "markdown",
   "metadata": {},
   "source": [
    "## Benchmark 4"
   ]
  },
  {
   "cell_type": "code",
   "execution_count": null,
   "metadata": {
    "collapsed": true
   },
   "outputs": [],
   "source": []
  }
 ],
 "metadata": {
  "kernelspec": {
   "display_name": "Python 3",
   "language": "python",
   "name": "python3"
  },
  "language_info": {
   "codemirror_mode": {
    "name": "ipython",
    "version": 3
   },
   "file_extension": ".py",
   "mimetype": "text/x-python",
   "name": "python",
   "nbconvert_exporter": "python",
   "pygments_lexer": "ipython3",
   "version": "3.6.3"
  }
 },
 "nbformat": 4,
 "nbformat_minor": 2
}
