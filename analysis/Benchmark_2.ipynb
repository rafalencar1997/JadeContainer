{
 "cells": [
  {
   "cell_type": "markdown",
   "metadata": {},
   "source": [
    "# Benchmark 1 - Número de Hosts"
   ]
  },
  {
   "cell_type": "markdown",
   "metadata": {},
   "source": [
    "## Setup do Ambiente"
   ]
  },
  {
   "cell_type": "markdown",
   "metadata": {},
   "source": [
    "### Imports"
   ]
  },
  {
   "cell_type": "code",
   "execution_count": 3,
   "metadata": {},
   "outputs": [],
   "source": [
    "from setup import *\n",
    "\n",
    "# from jupyter_datatables import init_datatables_mode\n",
    "\n",
    "# %load_ext jupyter_require\n",
    "\n",
    "# %reload_ext jupyter_require\n",
    "# %requirejs d3 https://d3js.org/d3.v5.min\n",
    "# init_datatables_mode()\n",
    "\n",
    "# %matplotlib inline\n",
    "# matplotlib.style.use('ggplot')"
   ]
  },
  {
   "cell_type": "markdown",
   "metadata": {},
   "source": [
    "### Load Data"
   ]
  },
  {
   "cell_type": "code",
   "execution_count": null,
   "metadata": {
    "collapsed": true
   },
   "outputs": [],
   "source": [
    "folder_path = '../credentials/results/Benchmark1/'\n",
    "df = load_data(folder_path)"
   ]
  },
  {
   "cell_type": "markdown",
   "metadata": {},
   "source": [
    "## Experimentos"
   ]
  },
  {
   "cell_type": "markdown",
   "metadata": {},
   "source": [
    "### Experimento B1E1 - Número de Hosts"
   ]
  },
  {
   "cell_type": "code",
   "execution_count": null,
   "metadata": {
    "collapsed": true
   },
   "outputs": [],
   "source": [
    "b1e1 = df[df.MessageSize == 1]\n",
    "b1e1 = b1e1[b1e1.NumberMessages == 1000]\n",
    "b1e1 = b1e1[[\"NumberHosts\", \"RTT\"]]"
   ]
  },
  {
   "cell_type": "code",
   "execution_count": null,
   "metadata": {
    "collapsed": true
   },
   "outputs": [],
   "source": [
    "plot_results(b1e1, yerror=False, legentOut=False, logScale=True,\n",
    "             'title', \n",
    "             'x_label', \n",
    "             'NumberOfMessages'):"
   ]
  },
  {
   "cell_type": "markdown",
   "metadata": {},
   "source": [
    "### Experimento B1E2 - Tamanho das Mensagens"
   ]
  },
  {
   "cell_type": "code",
   "execution_count": null,
   "metadata": {
    "collapsed": true
   },
   "outputs": [],
   "source": [
    "b1e2 = df[df.MessageSize == 1]\n",
    "b1e2 = b1e2[b1e2.NumberMessages == 1000]\n",
    "b1e2 = b1e2[[\"MessageSize\", \"RTT\"]]"
   ]
  },
  {
   "cell_type": "code",
   "execution_count": null,
   "metadata": {
    "collapsed": true
   },
   "outputs": [],
   "source": [
    "plot_results(b1e1, yerror=False, legentOut=False, logScale=True,\n",
    "             'title', \n",
    "             'x_label', \n",
    "             'NumberOfMessages'):"
   ]
  },
  {
   "cell_type": "markdown",
   "metadata": {},
   "source": [
    "### Experimento B1E13- Número de Mensagens"
   ]
  },
  {
   "cell_type": "code",
   "execution_count": null,
   "metadata": {
    "collapsed": true
   },
   "outputs": [],
   "source": [
    "b1e3 = df[df.MessageSize == 1]\n",
    "b1e3 = b1e3[b1e3.NumberMessages == 1000]\n",
    "b1e3 = b1e3[[\"NumberMessages\", \"RTT\"]] "
   ]
  },
  {
   "cell_type": "code",
   "execution_count": null,
   "metadata": {
    "collapsed": true
   },
   "outputs": [],
   "source": []
  }
 ],
 "metadata": {
  "kernelspec": {
   "display_name": "Python 3",
   "language": "python",
   "name": "python3"
  },
  "language_info": {
   "codemirror_mode": {
    "name": "ipython",
    "version": 3
   },
   "file_extension": ".py",
   "mimetype": "text/x-python",
   "name": "python",
   "nbconvert_exporter": "python",
   "pygments_lexer": "ipython3",
   "version": "3.6.3"
  }
 },
 "nbformat": 4,
 "nbformat_minor": 2
}
